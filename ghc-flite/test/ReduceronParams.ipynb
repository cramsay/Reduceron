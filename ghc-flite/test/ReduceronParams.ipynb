{
 "cells": [
  {
   "cell_type": "code",
   "execution_count": null,
   "metadata": {
    "tags": []
   },
   "outputs": [],
   "source": [
    "import numpy as np\n",
    "import pandas as pd\n",
    "import plotly.express as px\n",
    "import plotly.graph_objects as go\n",
    "import dash\n",
    "from dash import dcc\n",
    "from dash import html\n",
    "from jupyter_dash import JupyterDash"
   ]
  },
  {
   "cell_type": "markdown",
   "metadata": {},
   "source": [
    "## Result Generation\n",
    "\n",
    "Default params from the emulator source are 8, 6, 4, 2, and 8 respectively. Keep `MAXLUTS` and `MAXREGS` at their defaults for now and sweep `MAXPUSH` & `MAXAPS` from $2\\rightarrow 9$ and `APSIZE` $3\\rightarrow 9$."
   ]
  },
  {
   "cell_type": "code",
   "execution_count": null,
   "metadata": {
    "tags": []
   },
   "outputs": [],
   "source": [
    "emu_cmd = lambda example, file, MAXPUSH, APSIZE, MAXAPS, MAXLUTS, MAXREGS :\\\n",
    "  f'~/Sync/haflang/reduceron/flite/dist/build/flite/flite -s -i{MAXAPS} -r{MAXPUSH}:{APSIZE}:{MAXAPS}:{MAXLUTS}:{MAXREGS} {example}/{file} | ~/Sync/haflang/tommythorn_reduceron/emulator/emu -v -'\n",
    "\n",
    "runs = []\n",
    "for maxpush in range(2,10):\n",
    "    for apsize in range(3,10):\n",
    "        for maxaps in range(2, 10):\n",
    "            for example in ['mss', 'mate', 'fib', 'adjoxo']:\n",
    "                for src_file in ['orig.fl','ghc_noopt.fl', 'ghc_o2.fl']:\n",
    "                    cmd = emu_cmd(example,src_file,maxpush, apsize, maxaps, 2, 8)\n",
    "                    stats_raw = !$cmd\n",
    "                    stats = dict([line.replace(\" \", \"\").split('=') for line in stats_raw[2:-1]])\n",
    "                    stats.update({'MAXPUSH' : maxpush, 'APSIZE' : apsize, 'MAXAPS' : maxaps, 'source': src_file, 'example' : example})\n",
    "                    runs.append(stats)\n",
    "                    print(stats)\n",
    "\n",
    "df = pd.DataFrame(runs)\n",
    "df.to_csv('param_sweep.csv')"
   ]
  },
  {
   "cell_type": "markdown",
   "metadata": {},
   "source": [
    "## Analysis"
   ]
  },
  {
   "cell_type": "code",
   "execution_count": null,
   "metadata": {},
   "outputs": [],
   "source": [
    "df = pd.read_csv('param_sweep.csv')\n",
    "\n",
    "df = df.drop_duplicates(subset=['MAXPUSH', 'APSIZE', 'MAXAPS', 'source', 'example'])\n",
    "df['MTicks'] = df['Ticks'].map(lambda x : float(x)/1000000.0)\n",
    "for key in ['Swap', 'Prim', 'Unwind', 'Update', 'Apply', 'PRSSuccess']:\n",
    "    df[key] = df[key].map(lambda x : float(str(x)[:-1])/100.0)\n",
    "    df[key+'Ticks'] = df.apply(lambda row : row[key]/100.0*row['Ticks'], axis=1)"
   ]
  },
  {
   "cell_type": "code",
   "execution_count": null,
   "metadata": {},
   "outputs": [],
   "source": [
    "import plotly.graph_objects as go # or plotly.express as px\n",
    "\n",
    "app = JupyterDash()\n",
    "\n",
    "fig = go.Figure()\n",
    "app.layout = html.Div([\n",
    "    html.Div(\n",
    "        [\n",
    "            dcc.Dropdown(\n",
    "                id='comparison',\n",
    "                options=[{\n",
    "                    'label': i,\n",
    "                    'value': i\n",
    "                } for i in ['MAXPUSH-MAXAPS','MAXPUSH-APSIZE','MAXAPS-APSIZE']],\n",
    "                value='MAXPUSH-APSIZE',\n",
    "                style={'min-width':200, 'max-width':'30%', 'margin-right':'3%'}),\n",
    "            dcc.Dropdown(\n",
    "                id='zkey',\n",
    "                options=[{\n",
    "                    'label': i,\n",
    "                    'value': i\n",
    "                } for i in ['MTicks','MaxHeap','MaxStack','MaxUStack','MaxLStack',\n",
    "                            'Swap', 'Prim', 'Unwind', 'Update', 'Apply', 'PRSSuccess',\n",
    "                            'SwapTicks', 'PrimTicks', 'UnwindTicks', 'UpdateTicks', 'ApplyTicks', 'PRSSuccessTicks']],\n",
    "                value='MTicks',\n",
    "                style={'min-width':200, 'max-width':'30%','margin-right':'3%'}),\n",
    "            dcc.Dropdown(\n",
    "                id='sources',\n",
    "                options=[{\n",
    "                    'label': i,\n",
    "                    'value': i\n",
    "                } for i in ['orig.fl','ghc_noopt.fl','ghc_o2.fl']],\n",
    "                value=['orig.fl'],\n",
    "                multi=True,\n",
    "                style={'min-width':200, 'max-width':'30%','margin-right':'3%'}),\n",
    "            dcc.Dropdown(\n",
    "                id='example',\n",
    "                options=[{\n",
    "                    'label': i,\n",
    "                    'value': i\n",
    "                } for i in ['adjoxo','mate','mss', 'fib']],\n",
    "                value='adjoxo',\n",
    "                style={'min-width':200, 'max-width':'30%','margin-right':'3%'}),\n",
    "            html.Div([dcc.RangeSlider(id='constrange', min=3, max=9, step=1, value=[3,9])],\n",
    "                     style={'min-width':200, 'max-width':'30%'})\n",
    "        ],\n",
    "        style={'width': '100%',\n",
    "               'display': 'flex'}),\n",
    "    dcc.Graph(id='surfplot', figure=fig),\n",
    "])\n",
    "\n",
    "\n",
    "@app.callback(\n",
    "    dash.dependencies.Output('surfplot', 'figure'),\n",
    "    [dash.dependencies.Input('comparison', 'value'),\n",
    "     dash.dependencies.Input('zkey', 'value'),\n",
    "     dash.dependencies.Input('constrange', 'value'),\n",
    "     dash.dependencies.Input('sources', 'value'),\n",
    "     dash.dependencies.Input('example', 'value')])\n",
    "def update_graph(comparison, zkey, consts_range, sources, example):\n",
    "    (xkey,ykey) = comparison.split('-')\n",
    "    constkey = list(set(['MAXPUSH','MAXAPS','APSIZE'])-set([xkey,ykey]))[0]\n",
    "\n",
    "    planes = [ go.Surface(name=f'{constkey}@{const}',\n",
    "                          showscale=False, opacity=1.0,\n",
    "                          colorscale=colours,\n",
    "                          x=list(set(df[xkey].values)),\n",
    "                          y=list(set(df[ykey].values)),\n",
    "                          z=df[(df[constkey]==const) & (df['source']==source) & (df['example']==example)].pivot(index=xkey, columns=ykey, values=zkey).values)  \\\n",
    "               for const in range(consts_range[0],consts_range[1]+1) \\\n",
    "               for (source,colours) in zip(sources,colour_schemes) ]\n",
    "    \n",
    "    return {\n",
    "        'data': planes,\n",
    "        'layout': go.Layout(\n",
    "            width=1000, height=800,\n",
    "            autosize=True, uirevision='keep',\n",
    "            scene = dict(xaxis={'title': xkey},\n",
    "                         yaxis={'title': ykey},\n",
    "                         zaxis={'title': zkey})\n",
    "        )\n",
    "    }\n",
    "\n",
    "colour_schemes = ['Picnic','YlGnBu','Greens','YlOrRd','Bluered','RdBu','Reds','Blues']\n",
    "app.run_server(debug=True, use_reloader=False)"
   ]
  },
  {
   "cell_type": "markdown",
   "metadata": {},
   "source": [
    "## Explaining the differences between PilGRIM and Reduceron benchmarks\n",
    "\n",
    "Want to run _all_ the examples with settings comparable to PilGRIM. Want to generate a normalised bar chart where we can compare the reduceron slowdown to % of time in various sorts of instructions.\n",
    "\n"
   ]
  },
  {
   "cell_type": "code",
   "execution_count": null,
   "metadata": {
    "tags": []
   },
   "outputs": [],
   "source": [
    "emu_cmd = lambda example, MAXPUSH, APSIZE, MAXAPS, MAXLUTS, MAXREGS :\\\n",
    "  f'~/Sync/haflang/reduceron/flite/dist/build/flite/flite -s -i{MAXAPS} -r{MAXPUSH}:{APSIZE}:{MAXAPS}:{MAXLUTS}:{MAXREGS} ~/Sync/haflang/tommythorn_reduceron/programs/{example} | ~/Sync/haflang/tommythorn_reduceron/emulator/emu -v -'\n",
    "\n",
    "examples = [\n",
    "   'Adjoxo.hs'\n",
    "  ,'Braun.hs'\n",
    "  ,'Cichelli.hs'\n",
    "  ,'Clausify.hs'\n",
    "  ,'CountDown.hs'\n",
    "  ,'KnuthBendix.hs'\n",
    "  ,'Mate.hs'\n",
    "  ,'MSS.hs'\n",
    "  ,'OrdList.hs'\n",
    "  ,'PermSort.hs'\n",
    "  ,'Queens2.hs'\n",
    "  ,'Queens.hs'\n",
    "  ,'SumPuz.hs'\n",
    "  ,'Taut.hs'\n",
    "  ,'While.hs'\n",
    "]\n",
    "                \n",
    "runs = []\n",
    "for example in examples:\n",
    "        cmd = emu_cmd(example, 8,6,4,2,4) #emu_cmd(example, 4, 7, 1, 4, 16)\n",
    "        stats_raw = !$cmd\n",
    "        stats = dict([line.replace(\" \", \"\").split('=') for line in stats_raw[2:-1]])\n",
    "        stats.update({'example' : example})\n",
    "        runs.append(stats)\n",
    "        print(stats)\n",
    "\n",
    "df = pd.DataFrame(runs)\n",
    "df.to_csv('pilgrim_comparison.csv')"
   ]
  },
  {
   "cell_type": "code",
   "execution_count": null,
   "metadata": {},
   "outputs": [],
   "source": [
    "df = pd.read_csv('pilgrim_comparison.csv')\n",
    "df['MTicks'] = df['Ticks'].map(lambda x : float(x)/1000000.0)\n",
    "for key in ['Swap', 'Prim', 'Unwind', 'Update', 'Apply', 'PRSSuccess']:\n",
    "    df[key] = df[key].map(lambda x : float(str(x)[:-1])/100.0)\n",
    "    df[key+'Ticks'] = df.apply(lambda row : row[key]/100.0*row['Ticks'], axis=1)"
   ]
  },
  {
   "cell_type": "markdown",
   "metadata": {},
   "source": [
    "Should I be accounting for GC time, or is that not emulated? PilGRIM numbers do not include this."
   ]
  },
  {
   "cell_type": "code",
   "execution_count": null,
   "metadata": {},
   "outputs": [],
   "source": [
    "# From paper: Introducing the PilGRIM\n",
    "exampleTickComparisons = [\n",
    "   # Example, Pilgrim MTicks, Reduceron MTicks, Pilgrim %PrimOps, Pilgrim %NodeStores\n",
    "   ('Adjoxo.hs'     , 23 , 37 , 23, 13)\n",
    "  ,('Braun.hs'      , 83 , 66 , 2 , 35)\n",
    "  ,('Cichelli.hs'   , 29 , 39 , 19, 6)\n",
    "  ,('Clausify.hs'   , 46 , 67 , 5 , 17)\n",
    "  ,('CountDown.hs'  , 16 , 18 , 25, 17)\n",
    "  ,('KnuthBendix.hs', 15 , 16 , 8 , 18)\n",
    "  ,('Mate.hs'       , 343, 628, 15, 6)\n",
    "  ,('MSS.hs'        , 86 , 66 , 24, 1)\n",
    "  ,('OrdList.hs'    , 98 , 94 , 0 , 32)\n",
    "  ,('PermSort.hs'   , 166, 154, 4 , 34)\n",
    "  ,('Queens2.hs'    , 111, 120, 0 , 32)\n",
    "  ,('Queens.hs'     , 84 , 96 , 42, 10)\n",
    "  ,('SumPuz.hs'     , 277, 362, 12, 18)\n",
    "  ,('Taut.hs'       , 39 , 54 , 5 , 18)\n",
    "  ,('While.hs'      , 46 , 56 , 9 , 24)\n",
    "]\n",
    "\n",
    "#px.bar(x=examples, y=df['Prim'].values).show()\n",
    "px.bar(x=examples, y=[((a/100.0)/float(p)) for (red_prim,(_,p,r,a,_)) in zip(df['Prim'],exampleTickComparisons)]).show()\n",
    "px.bar(x=examples, y=[float(r)/p for (_,p,r,_,_) in exampleTickComparisons]).show()"
   ]
  },
  {
   "cell_type": "code",
   "execution_count": null,
   "metadata": {},
   "outputs": [],
   "source": []
  }
 ],
 "metadata": {
  "kernelspec": {
   "display_name": "Python 3",
   "language": "python",
   "name": "python3"
  },
  "language_info": {
   "codemirror_mode": {
    "name": "ipython",
    "version": 3
   },
   "file_extension": ".py",
   "mimetype": "text/x-python",
   "name": "python",
   "nbconvert_exporter": "python",
   "pygments_lexer": "ipython3",
   "version": "3.8.10"
  }
 },
 "nbformat": 4,
 "nbformat_minor": 4
}
